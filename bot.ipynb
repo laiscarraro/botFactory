{
  "nbformat": 4,
  "nbformat_minor": 0,
  "metadata": {
    "colab": {
      "name": "bot.ipynb",
      "provenance": [],
      "collapsed_sections": [
        "Wni1fWN3Or4w"
      ],
      "mount_file_id": "1NW_yqtzDihF41elRAD7a_8yuuVJmQkJT",
      "authorship_tag": "ABX9TyPi5dBfae6B0WMtHuncSmQP",
      "include_colab_link": true
    },
    "kernelspec": {
      "name": "python3",
      "display_name": "Python 3"
    }
  },
  "cells": [
    {
      "cell_type": "markdown",
      "metadata": {
        "id": "view-in-github",
        "colab_type": "text"
      },
      "source": [
        "<a href=\"https://colab.research.google.com/github/laiscarraro/botFactory/blob/master/bot.ipynb\" target=\"_parent\"><img src=\"https://colab.research.google.com/assets/colab-badge.svg\" alt=\"Open In Colab\"/></a>"
      ]
    },
    {
      "cell_type": "markdown",
      "metadata": {
        "id": "Wni1fWN3Or4w",
        "colab_type": "text"
      },
      "source": [
        "# Ajuda para conectar ao Drive + GitHub"
      ]
    },
    {
      "cell_type": "code",
      "metadata": {
        "id": "ItwNzKeGIDpV",
        "colab_type": "code",
        "colab": {},
        "cellView": "form"
      },
      "source": [
        "#@title 1. Não lembro como dar Mount no Drive\n",
        "from google.colab import drive # import drive from google colab\n",
        "\n",
        "ROOT = \"/content/drive\"     # default location for the drive\n",
        "print(ROOT)                 # print content of ROOT (Optional)\n",
        "\n",
        "drive.mount(ROOT, force_remount=True)"
      ],
      "execution_count": 0,
      "outputs": []
    },
    {
      "cell_type": "code",
      "metadata": {
        "id": "2rOl5cJXDiCa",
        "colab_type": "code",
        "colab": {},
        "cellView": "form"
      },
      "source": [
        "#@title 2. Não lembro meu token\n",
        "#Nao perca esse token: ab64be220c1f5684f2ee05e18bfab74b60a9a39f"
      ],
      "execution_count": 0,
      "outputs": []
    },
    {
      "cell_type": "code",
      "metadata": {
        "id": "K-QiALbZDxGx",
        "colab_type": "code",
        "colab": {},
        "cellView": "form"
      },
      "source": [
        "#@title 3. Não lembro como pegar o PATH do GitHub\n",
        "# Clone github repository setup\n",
        "# import join used to join ROOT path and MY_GOOGLE_DRIVE_PATH\n",
        "from os.path import join  \n",
        "\n",
        "# path to your project on Google Drive\n",
        "ROOT = '/content/drive'\n",
        "MY_GOOGLE_DRIVE_PATH = '/My Drive/Colab Notebooks/' \n",
        "# replace with your Github username \n",
        "GIT_USERNAME = \"laiscarraro\" \n",
        "# definitely replace with your\n",
        "GIT_TOKEN = \"ab64be220c1f5684f2ee05e18bfab74b60a9a39f\"  \n",
        "# Replace with your github repository in this case we want \n",
        "# to clone deep-learning-v2-pytorch repository\n",
        "GIT_REPOSITORY = \"botFactory\" \n",
        "\n",
        "PROJECT_PATH = join(ROOT, MY_GOOGLE_DRIVE_PATH)\n",
        "\n",
        "# It's good to print out the value if you are not sure \n",
        "print(\"PROJECT_PATH: \", PROJECT_PATH)   \n",
        "\n",
        "# In case we haven't created the folder already; we will create a folder in the project path \n",
        "!mkdir \"{PROJECT_PATH}\"    \n",
        "\n",
        "#GIT_PATH = \"https://{GIT_TOKEN}@github.com/{GIT_USERNAME}/{GIT_REPOSITORY}.git\" this return 400 Bad Request for me\n",
        "GIT_PATH = \"https://\" + GIT_TOKEN + \"@github.com/\" + GIT_USERNAME + \"/\" + GIT_REPOSITORY + \".git\"\n",
        "print(\"GIT_PATH: \", GIT_PATH)"
      ],
      "execution_count": 0,
      "outputs": []
    },
    {
      "cell_type": "code",
      "metadata": {
        "id": "k2Ows7PtFN8I",
        "colab_type": "code",
        "colab": {},
        "cellView": "form"
      },
      "source": [
        "#@title 4. Não lembro como clonar o repositório\n",
        "%cd \"content/drive/My Drive/Colab Notebooks/\"\n",
        "!git clone \"{GIT_PATH}\" # clone the github repository"
      ],
      "execution_count": 0,
      "outputs": []
    },
    {
      "cell_type": "code",
      "metadata": {
        "id": "PrDkDq4IF3_B",
        "colab_type": "code",
        "colab": {},
        "cellView": "form"
      },
      "source": [
        "#@title 5. Não lembro em que branch estou trabalhando\n",
        "!git branch #atualmente trabalhando na branch master"
      ],
      "execution_count": 0,
      "outputs": []
    },
    {
      "cell_type": "code",
      "metadata": {
        "id": "noyyDHP4GB7K",
        "colab_type": "code",
        "colab": {},
        "cellView": "form"
      },
      "source": [
        "#@title 6. Não lembro como importar um módulo do git\n",
        "from google.colab import drive\n",
        "drive.mount('/content/drive')\n",
        "\n",
        "%cd '/content/drive/My Drive/Colab Notebooks/botFactory/botTools/'\n",
        "%pwd \n",
        "\n",
        "import imp\n",
        "digitar = imp.new_module('digitar')\n",
        "\n",
        "exec(open(\"digitar.py\").read(), digitar.__dict__)\n",
        "\n",
        "#testar o módulo:\n",
        "d = digitar.Digitador(\"Lais\")\n",
        "d.enviar(\"Teste, teste...\")"
      ],
      "execution_count": 0,
      "outputs": []
    },
    {
      "cell_type": "code",
      "metadata": {
        "id": "GuqKCayxKuYu",
        "colab_type": "code",
        "colab": {},
        "cellView": "form"
      },
      "source": [
        "#@title 7. Não lembro como dar commit no repositório\n",
        "!git status\n",
        "!git add . #vai adicionar tudo, para mudar só 1 arquivo troque \".\" por \"-u\"\n",
        "!git commit -m \"teste\"\n",
        "!git config --global user.email \"laiscarraro@usp.br\"\n",
        "!git config --global user.name \"laiscarraro\"\n",
        "!git push origin master\n",
        "\n",
        "#um link útil caso isso não funcione: https://rogerdudler.github.io/git-guide/index.pt_BR.html"
      ],
      "execution_count": 0,
      "outputs": []
    },
    {
      "cell_type": "code",
      "metadata": {
        "id": "f2ffqzE-TpcM",
        "colab_type": "code",
        "colab": {},
        "cellView": "form"
      },
      "source": [
        "#@title 8. Meu problema ainda não foi resolvido\n",
        "#Caso nada disso tenha funcionado, dê uma olhada no manual básico:\n",
        "#https://towardsdatascience.com/google-drive-google-colab-github-dont-just-read-do-it-5554d5824228"
      ],
      "execution_count": 0,
      "outputs": []
    },
    {
      "cell_type": "markdown",
      "metadata": {
        "id": "PQOokcJWT-zM",
        "colab_type": "text"
      },
      "source": [
        "# Brincando com bots!"
      ]
    },
    {
      "cell_type": "code",
      "metadata": {
        "id": "6WhKfMPqUIj2",
        "colab_type": "code",
        "colab": {
          "base_uri": "https://localhost:8080/",
          "height": 456
        },
        "outputId": "855a44b5-26a8-46e7-a101-761d88347a0a"
      },
      "source": [
        "import imp\n",
        "%cd '/content/drive/My Drive/Colab Notebooks/botFactory/ericBot/'\n",
        "ericBot = imp.new_module('ericBot')\n",
        "exec(open(\"ericBot.py\").read(), ericBot.__dict__)\n",
        "\n",
        "eric = ericBot.EricBot()\n",
        "eric.inicio()"
      ],
      "execution_count": 46,
      "outputs": [
        {
          "output_type": "stream",
          "text": [
            "/content/drive/My Drive/Colab Notebooks/botFactory/ericBot\n",
            "\n",
            "[Eric entrou na sala]\n",
            "\n",
            "Eric: Oi, meu bom!\n",
            "Eric: Qual o seu nome?\n",
            "Você: La\n",
            "Eric: Legal!  \n",
            "Eric: Oi, La! \n",
            "Eric: Quer conversar comigo?\n",
            "Você: a\n",
            "Eric: Yaay!   \n",
            "Eric: La, como vc tá se sentindo?\n",
            "Você: bem\n",
            "Eric: Vamos falar de outra coisa. O q vc acha do Grace?\n",
            "Você: o grace é top, ne?\n",
            "Eric: Nossa, concordo\n",
            "Eric: o grace é top, mesmo\n",
            "Você: tchau eric, já te arrumei\n",
            "Eric: Eita, vou ter que sair\n",
            "Eric: Se cuida, La\n",
            "\n",
            "[Eric saiu da sala]\n",
            "\n"
          ],
          "name": "stdout"
        }
      ]
    },
    {
      "cell_type": "code",
      "metadata": {
        "id": "tE5L1HHmvytj",
        "colab_type": "code",
        "colab": {}
      },
      "source": [
        ""
      ],
      "execution_count": 0,
      "outputs": []
    }
  ]
}